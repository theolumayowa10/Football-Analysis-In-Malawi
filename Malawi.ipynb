{
 "cells": [
  {
   "cell_type": "markdown",
   "id": "a9fc72f4-2e3b-4779-b612-8ef1c6b94300",
   "metadata": {},
   "source": [
    "# 1. Importing Required Libraries"
   ]
  },
  {
   "cell_type": "code",
   "execution_count": 2,
   "id": "a24c6aae-0bab-4028-a562-9f412e3478e8",
   "metadata": {},
   "outputs": [],
   "source": [
    "import pandas as pd\n",
    "import numpy as np\n",
    "from datetime import datetime"
   ]
  },
  {
   "cell_type": "markdown",
   "id": "98f4f940-f05c-47a9-9cd0-759c96148405",
   "metadata": {},
   "source": [
    "#  2. Loading the Dataset"
   ]
  },
  {
   "cell_type": "code",
   "execution_count": 4,
   "id": "0e5bc587-b2f6-4cb3-b121-383eb70f7209",
   "metadata": {},
   "outputs": [],
   "source": [
    "df= pd.read_csv(r\"C:\\Users\\DELL\\Desktop\\Python\\Dataset_Malawi_National_Football_Team_Matches.csv\")"
   ]
  },
  {
   "cell_type": "markdown",
   "id": "0ee2c3e9-bcb7-4ab3-b6ef-c17db7f73a10",
   "metadata": {},
   "source": [
    "# First 5 Rows"
   ]
  },
  {
   "cell_type": "code",
   "execution_count": 6,
   "id": "d6a921a3-f17c-4c7a-b3c0-5d5dfc2fab0e",
   "metadata": {},
   "outputs": [
    {
     "data": {
      "text/html": [
       "<div>\n",
       "<style scoped>\n",
       "    .dataframe tbody tr th:only-of-type {\n",
       "        vertical-align: middle;\n",
       "    }\n",
       "\n",
       "    .dataframe tbody tr th {\n",
       "        vertical-align: top;\n",
       "    }\n",
       "\n",
       "    .dataframe thead th {\n",
       "        text-align: right;\n",
       "    }\n",
       "</style>\n",
       "<table border=\"1\" class=\"dataframe\">\n",
       "  <thead>\n",
       "    <tr style=\"text-align: right;\">\n",
       "      <th></th>\n",
       "      <th>Date</th>\n",
       "      <th>Opponent</th>\n",
       "      <th>Team Score</th>\n",
       "      <th>Opponent Score</th>\n",
       "      <th>Result</th>\n",
       "      <th>Venue</th>\n",
       "      <th>Competition</th>\n",
       "    </tr>\n",
       "  </thead>\n",
       "  <tbody>\n",
       "    <tr>\n",
       "      <th>0</th>\n",
       "      <td>~1957</td>\n",
       "      <td>Northern Rhodesia</td>\n",
       "      <td>0.0</td>\n",
       "      <td>5.0</td>\n",
       "      <td>Loss</td>\n",
       "      <td>Unknown</td>\n",
       "      <td>Friendly (First International)</td>\n",
       "    </tr>\n",
       "    <tr>\n",
       "      <th>1</th>\n",
       "      <td>~1962</td>\n",
       "      <td>Ghana</td>\n",
       "      <td>0.0</td>\n",
       "      <td>12.0</td>\n",
       "      <td>Loss</td>\n",
       "      <td>Unknown</td>\n",
       "      <td>Friendly</td>\n",
       "    </tr>\n",
       "    <tr>\n",
       "      <th>2</th>\n",
       "      <td>~1968</td>\n",
       "      <td>Botswana</td>\n",
       "      <td>8.0</td>\n",
       "      <td>1.0</td>\n",
       "      <td>Win</td>\n",
       "      <td>Unknown</td>\n",
       "      <td>Friendly</td>\n",
       "    </tr>\n",
       "    <tr>\n",
       "      <th>3</th>\n",
       "      <td>02/06/1996</td>\n",
       "      <td>South Africa</td>\n",
       "      <td>0.0</td>\n",
       "      <td>3.0</td>\n",
       "      <td>Loss</td>\n",
       "      <td>Away</td>\n",
       "      <td>World Cup Qualifier</td>\n",
       "    </tr>\n",
       "    <tr>\n",
       "      <th>4</th>\n",
       "      <td>07/07/1996</td>\n",
       "      <td>Zambia</td>\n",
       "      <td>1.0</td>\n",
       "      <td>1.0</td>\n",
       "      <td>Draw</td>\n",
       "      <td>Home</td>\n",
       "      <td>Friendly</td>\n",
       "    </tr>\n",
       "  </tbody>\n",
       "</table>\n",
       "</div>"
      ],
      "text/plain": [
       "         Date           Opponent  Team Score  Opponent Score Result    Venue  \\\n",
       "0       ~1957  Northern Rhodesia         0.0             5.0   Loss  Unknown   \n",
       "1       ~1962              Ghana         0.0            12.0   Loss  Unknown   \n",
       "2       ~1968           Botswana         8.0             1.0    Win  Unknown   \n",
       "3  02/06/1996       South Africa         0.0             3.0   Loss     Away   \n",
       "4  07/07/1996             Zambia         1.0             1.0   Draw     Home   \n",
       "\n",
       "                      Competition  \n",
       "0  Friendly (First International)  \n",
       "1                        Friendly  \n",
       "2                        Friendly  \n",
       "3             World Cup Qualifier  \n",
       "4                        Friendly  "
      ]
     },
     "execution_count": 6,
     "metadata": {},
     "output_type": "execute_result"
    }
   ],
   "source": [
    "df.head()"
   ]
  },
  {
   "cell_type": "markdown",
   "id": "61bae8c3-fb0a-4ac9-8a91-c1b3916e6a5f",
   "metadata": {},
   "source": [
    "# Last 5 Rows"
   ]
  },
  {
   "cell_type": "code",
   "execution_count": 8,
   "id": "bb0d380c-a228-4b81-ad9e-72cd071cddb8",
   "metadata": {},
   "outputs": [
    {
     "data": {
      "text/html": [
       "<div>\n",
       "<style scoped>\n",
       "    .dataframe tbody tr th:only-of-type {\n",
       "        vertical-align: middle;\n",
       "    }\n",
       "\n",
       "    .dataframe tbody tr th {\n",
       "        vertical-align: top;\n",
       "    }\n",
       "\n",
       "    .dataframe thead th {\n",
       "        text-align: right;\n",
       "    }\n",
       "</style>\n",
       "<table border=\"1\" class=\"dataframe\">\n",
       "  <thead>\n",
       "    <tr style=\"text-align: right;\">\n",
       "      <th></th>\n",
       "      <th>Date</th>\n",
       "      <th>Opponent</th>\n",
       "      <th>Team Score</th>\n",
       "      <th>Opponent Score</th>\n",
       "      <th>Result</th>\n",
       "      <th>Venue</th>\n",
       "      <th>Competition</th>\n",
       "    </tr>\n",
       "  </thead>\n",
       "  <tbody>\n",
       "    <tr>\n",
       "      <th>68</th>\n",
       "      <td>14/11/2024</td>\n",
       "      <td>Burundi</td>\n",
       "      <td>0.0</td>\n",
       "      <td>0.0</td>\n",
       "      <td>Draw</td>\n",
       "      <td>Home</td>\n",
       "      <td>AFCON 2025 Qualifier</td>\n",
       "    </tr>\n",
       "    <tr>\n",
       "      <th>69</th>\n",
       "      <td>18/11/2024</td>\n",
       "      <td>Burkina Faso</td>\n",
       "      <td>0.0</td>\n",
       "      <td>1.0</td>\n",
       "      <td>Loss</td>\n",
       "      <td>Away</td>\n",
       "      <td>AFCON 2025 Qualifier</td>\n",
       "    </tr>\n",
       "    <tr>\n",
       "      <th>70</th>\n",
       "      <td>02/03/2025</td>\n",
       "      <td>Comoros</td>\n",
       "      <td>2.0</td>\n",
       "      <td>0.0</td>\n",
       "      <td>Win</td>\n",
       "      <td>Away</td>\n",
       "      <td>Friendly</td>\n",
       "    </tr>\n",
       "    <tr>\n",
       "      <th>71</th>\n",
       "      <td>20/03/2025</td>\n",
       "      <td>Namibia</td>\n",
       "      <td>0.0</td>\n",
       "      <td>1.0</td>\n",
       "      <td>Loss</td>\n",
       "      <td>Away</td>\n",
       "      <td>World Cup Qualifier</td>\n",
       "    </tr>\n",
       "    <tr>\n",
       "      <th>72</th>\n",
       "      <td>24/03/2025</td>\n",
       "      <td>Tunisia</td>\n",
       "      <td>NaN</td>\n",
       "      <td>NaN</td>\n",
       "      <td>TBD</td>\n",
       "      <td>Away</td>\n",
       "      <td>World Cup Qualifier</td>\n",
       "    </tr>\n",
       "  </tbody>\n",
       "</table>\n",
       "</div>"
      ],
      "text/plain": [
       "          Date      Opponent  Team Score  Opponent Score Result Venue  \\\n",
       "68  14/11/2024       Burundi         0.0             0.0   Draw  Home   \n",
       "69  18/11/2024  Burkina Faso         0.0             1.0   Loss  Away   \n",
       "70  02/03/2025       Comoros         2.0             0.0    Win  Away   \n",
       "71  20/03/2025       Namibia         0.0             1.0   Loss  Away   \n",
       "72  24/03/2025       Tunisia         NaN             NaN    TBD  Away   \n",
       "\n",
       "             Competition  \n",
       "68  AFCON 2025 Qualifier  \n",
       "69  AFCON 2025 Qualifier  \n",
       "70              Friendly  \n",
       "71   World Cup Qualifier  \n",
       "72   World Cup Qualifier  "
      ]
     },
     "execution_count": 8,
     "metadata": {},
     "output_type": "execute_result"
    }
   ],
   "source": [
    "df.tail()"
   ]
  },
  {
   "cell_type": "markdown",
   "id": "359ab864-3902-4d2a-a62e-aed26e68f181",
   "metadata": {},
   "source": [
    "# Summary Of Dataframe"
   ]
  },
  {
   "cell_type": "code",
   "execution_count": 10,
   "id": "288aefac-6260-4051-a1dd-d7d7b723f4d8",
   "metadata": {},
   "outputs": [
    {
     "name": "stdout",
     "output_type": "stream",
     "text": [
      "<class 'pandas.core.frame.DataFrame'>\n",
      "RangeIndex: 73 entries, 0 to 72\n",
      "Data columns (total 7 columns):\n",
      " #   Column          Non-Null Count  Dtype  \n",
      "---  ------          --------------  -----  \n",
      " 0   Date            73 non-null     object \n",
      " 1   Opponent        73 non-null     object \n",
      " 2   Team Score      72 non-null     float64\n",
      " 3   Opponent Score  72 non-null     float64\n",
      " 4   Result          73 non-null     object \n",
      " 5   Venue           73 non-null     object \n",
      " 6   Competition     73 non-null     object \n",
      "dtypes: float64(2), object(5)\n",
      "memory usage: 4.1+ KB\n"
     ]
    }
   ],
   "source": [
    "df.info()"
   ]
  },
  {
   "cell_type": "markdown",
   "id": "b4f8b7b2-2a0d-434f-b22b-3b906729beb9",
   "metadata": {},
   "source": [
    "# Names Of Columns"
   ]
  },
  {
   "cell_type": "code",
   "execution_count": 62,
   "id": "b31f92fa-eda9-43e8-a52a-97fe2117e815",
   "metadata": {},
   "outputs": [
    {
     "data": {
      "text/plain": [
       "Index(['Date', 'Opponent', 'Team Score', 'Opponent Score', 'Result', 'Venue',\n",
       "       'Competition', 'Goal Difference', 'Is Win', 'Is Draw', 'Is Loss',\n",
       "       'Is Home', 'Is Away', 'Is Neutral'],\n",
       "      dtype='object')"
      ]
     },
     "execution_count": 62,
     "metadata": {},
     "output_type": "execute_result"
    }
   ],
   "source": [
    "df.columns"
   ]
  },
  {
   "cell_type": "code",
   "execution_count": 64,
   "id": "7a293503-564c-4268-9993-c2fcc9df8d2b",
   "metadata": {},
   "outputs": [
    {
     "data": {
      "text/plain": [
       "<bound method NDFrame.describe of          Date           Opponent  Team Score  Opponent Score Result    Venue  \\\n",
       "0  1957-01-01  Northern Rhodesia         0.0             5.0   Loss  Neutral   \n",
       "1  1962-01-01              Ghana         0.0            12.0   Loss  Neutral   \n",
       "2  1968-01-01           Botswana         8.0             1.0    Win  Neutral   \n",
       "3  2000-01-01       South Africa         0.0             3.0   Loss     Away   \n",
       "4  2000-01-01             Zambia         1.0             1.0   Draw     Home   \n",
       "..        ...                ...         ...             ...    ...      ...   \n",
       "68 2000-01-01            Burundi         0.0             0.0   Draw     Home   \n",
       "69 2000-01-01       Burkina Faso         0.0             1.0   Loss     Away   \n",
       "70 2000-01-01            Comoros         2.0             0.0    Win     Away   \n",
       "71 2000-01-01            Namibia         0.0             1.0   Loss     Away   \n",
       "72 2000-01-01            Tunisia         NaN             NaN    TBD     Away   \n",
       "\n",
       "                       Competition  Goal Difference  Is Win  Is Draw  Is Loss  \\\n",
       "0   Friendly (First International)             -5.0       0        0        1   \n",
       "1                         Friendly            -12.0       0        0        1   \n",
       "2                         Friendly              7.0       1        0        0   \n",
       "3              World Cup Qualifier             -3.0       0        0        1   \n",
       "4                         Friendly              0.0       0        1        0   \n",
       "..                             ...              ...     ...      ...      ...   \n",
       "68            AFCON 2025 Qualifier              0.0       0        1        0   \n",
       "69            AFCON 2025 Qualifier             -1.0       0        0        1   \n",
       "70                        Friendly              2.0       1        0        0   \n",
       "71             World Cup Qualifier             -1.0       0        0        1   \n",
       "72             World Cup Qualifier              NaN       0        0        0   \n",
       "\n",
       "    Is Home  Is Away  Is Neutral  \n",
       "0     False    False        True  \n",
       "1     False    False        True  \n",
       "2     False    False        True  \n",
       "3     False     True       False  \n",
       "4      True    False       False  \n",
       "..      ...      ...         ...  \n",
       "68     True    False       False  \n",
       "69    False     True       False  \n",
       "70    False     True       False  \n",
       "71    False     True       False  \n",
       "72    False     True       False  \n",
       "\n",
       "[73 rows x 14 columns]>"
      ]
     },
     "execution_count": 64,
     "metadata": {},
     "output_type": "execute_result"
    }
   ],
   "source": [
    "df.describe"
   ]
  },
  {
   "cell_type": "markdown",
   "id": "0b9267cf-69dd-4267-8140-90e9ef860464",
   "metadata": {},
   "source": [
    "# Summary Statistics"
   ]
  },
  {
   "cell_type": "code",
   "execution_count": 14,
   "id": "bde6800e-3d2b-47d6-a877-27cb0c50456f",
   "metadata": {},
   "outputs": [
    {
     "data": {
      "text/html": [
       "<div>\n",
       "<style scoped>\n",
       "    .dataframe tbody tr th:only-of-type {\n",
       "        vertical-align: middle;\n",
       "    }\n",
       "\n",
       "    .dataframe tbody tr th {\n",
       "        vertical-align: top;\n",
       "    }\n",
       "\n",
       "    .dataframe thead th {\n",
       "        text-align: right;\n",
       "    }\n",
       "</style>\n",
       "<table border=\"1\" class=\"dataframe\">\n",
       "  <thead>\n",
       "    <tr style=\"text-align: right;\">\n",
       "      <th></th>\n",
       "      <th>Team Score</th>\n",
       "      <th>Opponent Score</th>\n",
       "    </tr>\n",
       "  </thead>\n",
       "  <tbody>\n",
       "    <tr>\n",
       "      <th>count</th>\n",
       "      <td>72.000000</td>\n",
       "      <td>72.000000</td>\n",
       "    </tr>\n",
       "    <tr>\n",
       "      <th>mean</th>\n",
       "      <td>0.833333</td>\n",
       "      <td>1.569444</td>\n",
       "    </tr>\n",
       "    <tr>\n",
       "      <th>std</th>\n",
       "      <td>1.342690</td>\n",
       "      <td>1.758892</td>\n",
       "    </tr>\n",
       "    <tr>\n",
       "      <th>min</th>\n",
       "      <td>0.000000</td>\n",
       "      <td>0.000000</td>\n",
       "    </tr>\n",
       "    <tr>\n",
       "      <th>25%</th>\n",
       "      <td>0.000000</td>\n",
       "      <td>0.000000</td>\n",
       "    </tr>\n",
       "    <tr>\n",
       "      <th>50%</th>\n",
       "      <td>0.000000</td>\n",
       "      <td>1.000000</td>\n",
       "    </tr>\n",
       "    <tr>\n",
       "      <th>75%</th>\n",
       "      <td>1.000000</td>\n",
       "      <td>2.000000</td>\n",
       "    </tr>\n",
       "    <tr>\n",
       "      <th>max</th>\n",
       "      <td>8.000000</td>\n",
       "      <td>12.000000</td>\n",
       "    </tr>\n",
       "  </tbody>\n",
       "</table>\n",
       "</div>"
      ],
      "text/plain": [
       "       Team Score  Opponent Score\n",
       "count   72.000000       72.000000\n",
       "mean     0.833333        1.569444\n",
       "std      1.342690        1.758892\n",
       "min      0.000000        0.000000\n",
       "25%      0.000000        0.000000\n",
       "50%      0.000000        1.000000\n",
       "75%      1.000000        2.000000\n",
       "max      8.000000       12.000000"
      ]
     },
     "execution_count": 14,
     "metadata": {},
     "output_type": "execute_result"
    }
   ],
   "source": [
    "df.describe()"
   ]
  },
  {
   "cell_type": "markdown",
   "id": "1bce2187-5de0-459d-a668-eb64bfeb291d",
   "metadata": {},
   "source": [
    "# Checking for duplicates"
   ]
  },
  {
   "cell_type": "code",
   "execution_count": 16,
   "id": "4eae1284-e2bb-4e47-a8e5-07ae3e8f6e03",
   "metadata": {},
   "outputs": [
    {
     "data": {
      "text/plain": [
       "0"
      ]
     },
     "execution_count": 16,
     "metadata": {},
     "output_type": "execute_result"
    }
   ],
   "source": [
    "df.duplicated().sum()"
   ]
  },
  {
   "cell_type": "code",
   "execution_count": 17,
   "id": "dfcfda80-0b38-4f78-8ff7-b30f650d8b22",
   "metadata": {},
   "outputs": [
    {
     "data": {
      "text/plain": [
       "Date              0\n",
       "Opponent          0\n",
       "Team Score        1\n",
       "Opponent Score    1\n",
       "Result            0\n",
       "Venue             0\n",
       "Competition       0\n",
       "dtype: int64"
      ]
     },
     "execution_count": 17,
     "metadata": {},
     "output_type": "execute_result"
    }
   ],
   "source": [
    "df.isna().sum()"
   ]
  },
  {
   "cell_type": "markdown",
   "id": "27a55fad-f105-4a3d-8685-e4565eb6c020",
   "metadata": {},
   "source": [
    "# Handling Missing Scores"
   ]
  },
  {
   "cell_type": "code",
   "execution_count": 19,
   "id": "9ecc7a1d-9913-4e26-9686-fa670145d3b2",
   "metadata": {},
   "outputs": [],
   "source": [
    "df = df.dropna(subset=['Team Score', 'Opponent Score'])"
   ]
  },
  {
   "cell_type": "markdown",
   "id": "3fb6d638-bf7f-4f82-955d-10a5de60e509",
   "metadata": {},
   "source": [
    "# Convering Scores To Integer"
   ]
  },
  {
   "cell_type": "code",
   "execution_count": 21,
   "id": "b19a00fd-9460-4132-9006-de88f2927873",
   "metadata": {},
   "outputs": [],
   "source": [
    "df = df.dropna(subset=['Team Score', 'Opponent Score']).copy()\n",
    "df.loc[:, 'Team Score'] = df['Team Score'].astype(int)\n",
    "df.loc[:, 'Opponent Score'] = df['Opponent Score'].astype(int)"
   ]
  },
  {
   "cell_type": "markdown",
   "id": "c4c587a2-9ecf-41b2-b4cd-b970b70cf84b",
   "metadata": {},
   "source": [
    "# Cleaning The 'Date' Column"
   ]
  },
  {
   "cell_type": "code",
   "execution_count": 23,
   "id": "145b12db-0985-4471-b9e8-a2e7cb8a5563",
   "metadata": {},
   "outputs": [],
   "source": [
    "df = pd.read_csv(\"Dataset_Malawi_National_Football_Team_Matches.csv\")\n",
    "df['Date'] = pd.to_datetime(df['Date'].astype(str).str.replace('~', '', regex=False), errors='coerce', dayfirst=True)\n",
    "df['Date'] = df['Date'].fillna(pd.Timestamp('2000-01-01'))"
   ]
  },
  {
   "cell_type": "markdown",
   "id": "3fec6832-9e69-46ad-b60d-5ced9d690e16",
   "metadata": {},
   "source": [
    "#  Standardizing the Venue Column"
   ]
  },
  {
   "cell_type": "code",
   "execution_count": 25,
   "id": "48345885-c9f2-4a81-a716-9f972372b2a6",
   "metadata": {},
   "outputs": [],
   "source": [
    "df['Venue'] = df['Venue'].str.capitalize()\n",
    "df['Venue'] = df['Venue'].replace({'Unknown': 'Neutral'})"
   ]
  },
  {
   "cell_type": "markdown",
   "id": "d78a617a-15ea-4fef-bad0-63eb99eb6c3e",
   "metadata": {},
   "source": [
    "# New Features"
   ]
  },
  {
   "cell_type": "markdown",
   "id": "0faa6934-df87-47a9-8ced-fae598866b42",
   "metadata": {},
   "source": [
    "### Goal Difference"
   ]
  },
  {
   "cell_type": "code",
   "execution_count": 28,
   "id": "99e45144-4fd0-4f5c-9504-a7d7d55b8ebb",
   "metadata": {},
   "outputs": [],
   "source": [
    "df['Goal Difference'] = df['Team Score'] - df['Opponent Score']"
   ]
  },
  {
   "cell_type": "markdown",
   "id": "4579e84f-d7c4-4859-81b2-bd69c0bb623f",
   "metadata": {},
   "source": [
    "### Match Outcome Flags"
   ]
  },
  {
   "cell_type": "code",
   "execution_count": 30,
   "id": "f7502c07-0ea8-4c92-8a9e-efeb7033cf1b",
   "metadata": {},
   "outputs": [],
   "source": [
    "df['Is Win'] = df['Result'].eq('Win').astype(int)\n",
    "df['Is Draw'] = df['Result'].eq('Draw').astype(int)\n",
    "df['Is Loss'] = df['Result'].eq('Loss').astype(int)"
   ]
  },
  {
   "cell_type": "markdown",
   "id": "d7084099-6326-4424-a75b-b8870d767a21",
   "metadata": {},
   "source": [
    "### Match Location Flags"
   ]
  },
  {
   "cell_type": "code",
   "execution_count": 32,
   "id": "140d101b-0ba0-4073-a012-eed9a606bf11",
   "metadata": {},
   "outputs": [],
   "source": [
    "df['Is Home'] = df['Venue'].eq('Home')\n",
    "df['Is Away'] = df['Venue'].eq('Away')\n",
    "df['Is Neutral'] = df['Venue'].eq('Neutral')"
   ]
  },
  {
   "cell_type": "markdown",
   "id": "5ee7d6f4-8007-4ebf-8aef-59b309e23c44",
   "metadata": {},
   "source": [
    "# Exporting the Cleaned Dataset"
   ]
  },
  {
   "cell_type": "code",
   "execution_count": 34,
   "id": "23e5340a-2abe-4a56-80ab-48b60bf85d4e",
   "metadata": {},
   "outputs": [],
   "source": [
    "df.to_csv(\"Clean_Malawi_Matches.csv\", index=False)"
   ]
  },
  {
   "cell_type": "code",
   "execution_count": 35,
   "id": "a5bbef71-dc40-40d3-8503-6b34c44498df",
   "metadata": {},
   "outputs": [
    {
     "name": "stdout",
     "output_type": "stream",
     "text": [
      "C:\\Users\\DELL\\Desktop\\Python\n"
     ]
    }
   ],
   "source": [
    "import os\n",
    "print(os.getcwd())"
   ]
  },
  {
   "cell_type": "code",
   "execution_count": null,
   "id": "3d6841ff-e575-4a7d-a324-5c1b4f1c611c",
   "metadata": {},
   "outputs": [],
   "source": []
  },
  {
   "cell_type": "code",
   "execution_count": null,
   "id": "e372b9e3-0f32-46de-83d3-065b296896ec",
   "metadata": {},
   "outputs": [],
   "source": []
  }
 ],
 "metadata": {
  "kernelspec": {
   "display_name": "Python [conda env:base] *",
   "language": "python",
   "name": "conda-base-py"
  },
  "language_info": {
   "codemirror_mode": {
    "name": "ipython",
    "version": 3
   },
   "file_extension": ".py",
   "mimetype": "text/x-python",
   "name": "python",
   "nbconvert_exporter": "python",
   "pygments_lexer": "ipython3",
   "version": "3.12.7"
  }
 },
 "nbformat": 4,
 "nbformat_minor": 5
}
